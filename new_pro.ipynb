{
 "cells": [
  {
   "cell_type": "code",
   "execution_count": 1,
   "metadata": {},
   "outputs": [],
   "source": [
    "# Libraries\n",
    "import os\n",
    "import numpy as np\n",
    "#!conda install --yes pandas \n",
    "#!conda install -c conda-forge --yes ipywidgets\n",
    "import pandas as pd\n",
    "\n",
    "import cv2\n",
    "#!conda install --yes seaborn \n",
    "import seaborn as sns\n",
    "import matplotlib.pyplot as plt\n",
    "%matplotlib inline\n",
    "\n",
    "from sklearn.model_selection import train_test_split\n",
    "from sklearn.metrics import classification_report\n",
    "from sklearn.metrics import confusion_matrix\n",
    "\n",
    "import torch \n",
    "import torch.nn as nn\n",
    "import torch.nn.functional as F\n",
    "import torchvision\n",
    "import torchvision.transforms as transforms\n",
    "from torch.utils.data import TensorDataset, DataLoader, Dataset\n",
    "import gc\n",
    "import time\n",
    "import copy\n",
    "from tqdm import tqdm\n",
    "from sklearn.utils import compute_class_weight\n",
    "from PIL import Image\n",
    "import math\n",
    "from glob import glob\n"
   ]
  },
  {
   "cell_type": "markdown",
   "metadata": {},
   "source": [
    "Hyper parameters and device configuration"
   ]
  },
  {
   "cell_type": "code",
   "execution_count": 2,
   "metadata": {},
   "outputs": [],
   "source": [
    "# Hyper parameters\n",
    "NUM_CLASSES = 2 # Labels: 0 - Non IDC, 1 - IDC\n",
    "BATCH_SIZE = 64\n",
    "\n",
    "# CNN\n",
    "NUM_EPOCHS_CNN = 1\n",
    "BATCH_SIZE_CNN  = 128\n",
    "learning_rate_CNN = 0.002\n",
    "\n",
    "# Resnet\n",
    "NUM_EPOCHS_RESNET = 1\n",
    "BATCH_SIZE_RESNET  = 128\n",
    "BATCH_SIZE_RESNET2  = 128\n",
    "learning_rate_RESNET  = 0.002\n",
    "learning_rate_RESNET2 = 0.002\n",
    "run_training = True\n",
    "retrain = False\n",
    "find_learning_rate = True\n",
    "\n",
    "# DensNet\n",
    "learning_rate_DensNet  = 0.002\n",
    "NUM_EPOCHS_DENSNET = 1\n",
    "BATCH_SIZE_DensNet = 64"
   ]
  },
  {
   "cell_type": "code",
   "execution_count": 3,
   "metadata": {},
   "outputs": [
    {
     "data": {
      "text/plain": [
       "'Quadro M4000'"
      ]
     },
     "execution_count": 3,
     "metadata": {},
     "output_type": "execute_result"
    }
   ],
   "source": [
    "# Device configuration\n",
    "#torch.cuda.empty_cache()\n",
    "device = torch.device(\"cuda:0\" if torch.cuda.is_available() else \"cpu\")\n",
    "torch.cuda.get_device_name(0)"
   ]
  },
  {
   "cell_type": "markdown",
   "metadata": {},
   "source": [
    "Read the data (images) and create a csv file, dataset object and data loaders"
   ]
  },
  {
   "cell_type": "code",
   "execution_count": 4,
   "metadata": {},
   "outputs": [
    {
     "name": "stdout",
     "output_type": "stream",
     "text": [
      "ImagePatches length (Total number of images):  277524\n",
      "imagePatches[0] (Checking if we read the file name):  ../IDC_regular_ps50_idx5/12910/1/12910_idx5_x651_y201_class1.png\n"
     ]
    }
   ],
   "source": [
    "x=[] # x coordinate of an image\n",
    "SelectedImageData = [] # For the csv and the dataloaders\n",
    "y=[] # y coordinate of an image\n",
    "ID=[] # ID of a patient\n",
    "cl=[] # class (0 for non IDC, 1 for IDC)\n",
    "target=[] # class\n",
    "matrix = [] # All the image data\n",
    "i = 0\n",
    "imagePatches = glob('../IDC_regular_ps50_idx5/**/*.png', recursive=True)\n",
    "print(\"ImagePatches length (Total number of images): \", len(imagePatches))\n",
    "print(\"imagePatches[0] (Checking if we read the file name): \", imagePatches[0])\n",
    "\n",
    "# Go over all the images and create a dataset csv file including: x coordinate, y coordinate, target(label: 0-non IDC, 1-IDC), ID - Patient ID\n",
    "for img in imagePatches:\n",
    "    # For each image path extract the data from the image name\n",
    "    imagePatches1=imagePatches[i].split(\"/\")\n",
    "    imagePatches2=imagePatches1[-1].split(\"_\")\n",
    "    x=imagePatches2[2].split(\"x\")\n",
    "    x=x[1]\n",
    "    y=imagePatches2[3].split(\"y\")\n",
    "    y=y[1]\n",
    "    target=imagePatches2[4].split(\".png\")\n",
    "    cl=target[0]\n",
    "   \n",
    "    if cl=='class0':\n",
    "        cl=0\n",
    "    elif cl=='class1':\n",
    "         cl=1\n",
    "    ID=imagePatches2[0]\n",
    "    filename=imagePatches[i]\n",
    "    SelectedImageData = [ID,x,y,filename,cl]\n",
    "    column_names = [\"patient_id\",\"x\",\"y\",\"filename\",\"target\"]\n",
    "    matrix.append(SelectedImageData)\n",
    "    i=i+1"
   ]
  },
  {
   "cell_type": "code",
   "execution_count": 5,
   "metadata": {},
   "outputs": [],
   "source": [
    "base_path = \"../IDC_regular_ps50_idx5/\"\n",
    "folder = os.listdir(base_path)\n",
    "\n",
    "# Add fully defined column into the row\n",
    "images_df = pd.DataFrame(matrix, columns = column_names)"
   ]
  },
  {
   "cell_type": "code",
   "execution_count": 6,
   "metadata": {},
   "outputs": [
    {
     "name": "stdout",
     "output_type": "stream",
     "text": [
      "Create csv file\n"
     ]
    }
   ],
   "source": [
    "print(\"Create csv file\")\n",
    "# Create the dataset csv\n",
    "images_df.to_csv(r'dataset.csv', index = False) "
   ]
  },
  {
   "cell_type": "code",
   "execution_count": 7,
   "metadata": {},
   "outputs": [
    {
     "name": "stdout",
     "output_type": "stream",
     "text": [
      "Number of folders (Patients):  279\n"
     ]
    }
   ],
   "source": [
    "files = os.listdir(\"../IDC_regular_ps50_idx5/\")\n",
    "print(\"Number of folders (Patients): \", len(files))"
   ]
  },
  {
   "cell_type": "code",
   "execution_count": 8,
   "metadata": {},
   "outputs": [
    {
     "name": "stdout",
     "output_type": "stream",
     "text": [
      "cancer_perc: target             0         1\n",
      "patient_id                    \n",
      "8863        0.788560  0.211440\n",
      "8864        0.710503  0.289497\n",
      "8865        0.922753  0.077247\n",
      "8867        0.901340  0.098660\n",
      "8913        0.914136  0.085864\n",
      "...              ...       ...\n",
      "16568       0.658213  0.341787\n",
      "16569       0.896142  0.103858\n",
      "16570       0.408942  0.591058\n",
      "16895       0.761589  0.238411\n",
      "16896       0.902396  0.097604\n",
      "\n",
      "[279 rows x 2 columns]\n"
     ]
    }
   ],
   "source": [
    "# read csv file and return the created dataset (cancer_perc - precent of cancer images per patinet)\n",
    "dataset = pd.read_csv(\"dataset.csv\", usecols=['patient_id', 'filename','target'])\n",
    "cancer_perc = dataset.groupby(\"patient_id\").target.value_counts()/ dataset.groupby(\"patient_id\").target.size()\n",
    "cancer_perc = cancer_perc.unstack()\n",
    "print(\"cancer_perc:\" ,cancer_perc)"
   ]
  },
  {
   "cell_type": "code",
   "execution_count": null,
   "metadata": {},
   "outputs": [],
   "source": []
  },
  {
   "cell_type": "code",
   "execution_count": 9,
   "metadata": {},
   "outputs": [
    {
     "name": "stdout",
     "output_type": "stream",
     "text": [
      "Train length: 222019 Test length 55505\n",
      "\n",
      "Train head:         patient_id     x     y  \\\n",
      "226032      12869  1401   851   \n",
      "197350      13693   751  1351   \n",
      "814         12910  2601   251   \n",
      "71940        9265  2001  1951   \n",
      "77204       10307   601   201   \n",
      "\n",
      "                                                 filename  target  \n",
      "226032  ../IDC_regular_ps50_idx5/12869/0/12869_idx5_x1...       0  \n",
      "197350  ../IDC_regular_ps50_idx5/13693/1/13693_idx5_x7...       1  \n",
      "814     ../IDC_regular_ps50_idx5/12910/0/12910_idx5_x2...       0  \n",
      "71940   ../IDC_regular_ps50_idx5/9265/0/9265_idx5_x200...       0  \n",
      "77204   ../IDC_regular_ps50_idx5/10307/0/10307_idx5_x6...       0  \n",
      "\n",
      "Test head:         patient_id     x     y  \\\n",
      "268133       9225  1401   601   \n",
      "100531       9123  2201  2101   \n",
      "21842        9260   401     1   \n",
      "114124       9178   951  1301   \n",
      "252595      15515  1551  1601   \n",
      "\n",
      "                                                 filename  target  \n",
      "268133  ../IDC_regular_ps50_idx5/9225/0/9225_idx5_x140...       0  \n",
      "100531  ../IDC_regular_ps50_idx5/9123/0/9123_idx5_x220...       0  \n",
      "21842   ../IDC_regular_ps50_idx5/9260/1/9260_idx5_x401...       1  \n",
      "114124  ../IDC_regular_ps50_idx5/9178/0/9178_idx5_x951...       0  \n",
      "252595  ../IDC_regular_ps50_idx5/15515/0/15515_idx5_x1...       0  \n"
     ]
    }
   ],
   "source": [
    "#Splitting data into train and test: 0.2 for test 0.8 for train\n",
    "train, test = train_test_split(images_df, stratify=images_df.target, test_size=0.2,train_size=0.8)\n",
    "print(\"Train length: %d Test length %d\" %(len(train), len(test)))\n",
    "print(\"\\nTrain head: \", train.head())\n",
    "print(\"\\nTest head: \", test.head())"
   ]
  },
  {
   "cell_type": "code",
   "execution_count": 10,
   "metadata": {},
   "outputs": [
    {
     "name": "stdout",
     "output_type": "stream",
     "text": [
      "Train head:                                                   filename  target\n",
      "226032  ../IDC_regular_ps50_idx5/12869/0/12869_idx5_x1...       0\n",
      "197350  ../IDC_regular_ps50_idx5/13693/1/13693_idx5_x7...       1\n",
      "814     ../IDC_regular_ps50_idx5/12910/0/12910_idx5_x2...       0\n",
      "71940   ../IDC_regular_ps50_idx5/9265/0/9265_idx5_x200...       0\n",
      "77204   ../IDC_regular_ps50_idx5/10307/0/10307_idx5_x6...       0\n",
      "\n",
      "Test head:                                                   filename  target\n",
      "268133  ../IDC_regular_ps50_idx5/9225/0/9225_idx5_x140...       0\n",
      "100531  ../IDC_regular_ps50_idx5/9123/0/9123_idx5_x220...       0\n",
      "21842   ../IDC_regular_ps50_idx5/9260/1/9260_idx5_x401...       1\n",
      "114124  ../IDC_regular_ps50_idx5/9178/0/9178_idx5_x951...       0\n",
      "252595  ../IDC_regular_ps50_idx5/15515/0/15515_idx5_x1...       0\n"
     ]
    }
   ],
   "source": [
    "train = train[[\"filename\",\"target\"]]\n",
    "test = test[[\"filename\",\"target\"]]\n",
    "print(\"Train head: \", train.head())\n",
    "print(\"\\nTest head: \", test.head())"
   ]
  },
  {
   "cell_type": "code",
   "execution_count": 11,
   "metadata": {},
   "outputs": [],
   "source": [
    "class MyDataset(Dataset):\n",
    "    def __init__(self, df_data,transform=None):\n",
    "        super().__init__()\n",
    "        self.df = df_data.values\n",
    "        \n",
    "        self.transform = transform\n",
    "\n",
    "    def __len__(self):\n",
    "        return len(self.df)\n",
    "    \n",
    "    def __getitem__(self, index):\n",
    "        img_path,label = self.df[index]\n",
    "        \n",
    "        image = cv2.imread(img_path)\n",
    "        image = cv2.resize(image, (50,50))\n",
    "        if self.transform is not None:\n",
    "            image = self.transform(image)\n",
    "        return image, label"
   ]
  },
  {
   "cell_type": "code",
   "execution_count": 12,
   "metadata": {},
   "outputs": [],
   "source": [
    "trans_train = transforms.Compose([transforms.ToPILImage(),\n",
    "                                  transforms.Pad(64, padding_mode='reflect'),\n",
    "                                  transforms.RandomHorizontalFlip(), \n",
    "                                  transforms.RandomVerticalFlip(),\n",
    "                                  transforms.RandomRotation(20), \n",
    "                                  transforms.ToTensor(),\n",
    "                                  transforms.Normalize(mean=[0.5, 0.5, 0.5],std=[0.5, 0.5, 0.5])])\n",
    "\n",
    "trans_test = transforms.Compose([transforms.ToPILImage(),\n",
    "                                  transforms.Pad(64, padding_mode='reflect'),\n",
    "                                  transforms.ToTensor(),\n",
    "                                  transforms.Normalize(mean=[0.5, 0.5, 0.5],std=[0.5, 0.5, 0.5])])"
   ]
  },
  {
   "cell_type": "code",
   "execution_count": 13,
   "metadata": {},
   "outputs": [],
   "source": [
    "dataset_train = MyDataset(df_data = train, transform=trans_train)\n",
    "dataset_test = MyDataset(df_data = test,transform=trans_test)"
   ]
  },
  {
   "cell_type": "code",
   "execution_count": null,
   "metadata": {},
   "outputs": [],
   "source": []
  },
  {
   "cell_type": "code",
   "execution_count": 14,
   "metadata": {},
   "outputs": [
    {
     "name": "stdout",
     "output_type": "stream",
     "text": [
      "Interaction for train and test:\n",
      "3469 1735\n"
     ]
    }
   ],
   "source": [
    "loader_train = DataLoader(dataset_train, batch_size = BATCH_SIZE, shuffle = True, drop_last=True, num_workers=0)\n",
    "loader_test = DataLoader(dataset = dataset_test, batch_size = BATCH_SIZE//2, shuffle=False, num_workers=0)\n",
    "\n",
    "loader_train_cnn = DataLoader(dataset_train, batch_size = BATCH_SIZE_CNN, shuffle = True, drop_last=True, num_workers=0)\n",
    "loader_train_resnet = DataLoader(dataset_train, batch_size = BATCH_SIZE_RESNET, shuffle = True, drop_last=True, num_workers=0)\n",
    "loader_train_resnet2 = DataLoader(dataset_train, batch_size = BATCH_SIZE_RESNET2, shuffle = True, drop_last=True, num_workers=0)\n",
    "loader_train_resnet_densnet = DataLoader(dataset_train, batch_size = BATCH_SIZE_DensNet, shuffle = True, drop_last=True, num_workers=0)\n",
    "\n",
    "print(\"Interaction for train and test:\")\n",
    "print(len(loader_train), len(loader_test))"
   ]
  },
  {
   "cell_type": "code",
   "execution_count": 15,
   "metadata": {},
   "outputs": [],
   "source": [
    "# Train the model\n",
    "def train_model(NUM_EPOCHS, loader_train, optimizer, criterion, model, ModelCheckPointName, loss_acc = 100):\n",
    "    print(\"Train started:\")\n",
    "    model.to(device)\n",
    "    #model_Cnn.to(device)\n",
    "    #criterion = nn.CrossEntropyLoss()\n",
    "    # Loss and optimizer\n",
    "    #optimizer = torch.optim.Adamax(model.parameters(), lr=learning_rate)\n",
    "    loss_array=[]\n",
    "    x=[]\n",
    "    #Epoch_time=0\n",
    "    #Int100_time=0\n",
    "    #Int100_time1=np.zeros(1735) \n",
    "    total_step = len(loader_train)\n",
    "    test_loss , test_accuracy = [], []\n",
    "    start = time.time()\n",
    "    curr_time = 0\n",
    "    running_loss = 0\n",
    "    for epoch in range(NUM_EPOCHS):\n",
    "        torch.cuda.synchronize()\n",
    "    \n",
    "        tk0 = tqdm(loader_train, total=int(len(loader_train)),desc= \"Progress: \")\n",
    "        \n",
    "        for i, (filename, target) in enumerate(tk0):\n",
    "            \n",
    "            filename = filename.to(device)\n",
    "            target = target.to(device)\n",
    "        \n",
    "            # Forward pass\n",
    "            #torch.cuda.empty_cache()        \n",
    "            outputs = model(filename)\n",
    "            loss = criterion(outputs, target)\n",
    "            running_loss += loss.item()\n",
    "        \n",
    "            # Backward and optimize\n",
    "            optimizer.zero_grad()\n",
    "            loss.backward()\n",
    "            optimizer.step()\n",
    "            \n",
    "            # Finished loss_acc iterations\n",
    "            if(i+1) % loss_acc == 0:\n",
    "                torch.cuda.synchronize()\n",
    "                #stop = time.time()\n",
    "                #time_diff = stop-start\n",
    "                loss_array.append(running_loss / i) \n",
    "                running_loss = 0\n",
    "        \n",
    "            # Finished an epoch\n",
    "            elif (i+1) % len(loader_train) == 0:\n",
    "                torch.cuda.synchronize()\n",
    "                #stop = time.time()\n",
    "                #time_diff = stop - start\n",
    "                #print ('Epoch [{}/{}], Step [{}/{}], Loss: {:.4f}, time:{} min' \n",
    "                 #          .format(epoch+1, NUM_EPOCHS, i+1, total_step, loss.item(),time_diff/60))\n",
    "                                \n",
    "                # Save the model checkpoint\n",
    "                torch.save({\n",
    "                'epoch': epoch,\n",
    "                'model_state_dict': model.state_dict(),\n",
    "                'optimizer_state_dict': optimizer.state_dict(),\n",
    "                'loss_array': loss_array,\n",
    "                }, 'models/Model_' + ModelCheckPointName + '.pth')\n",
    "                  \n",
    "                #torch.save(model.state_dict(), 'models/model_res.ckpt')\n",
    "                \"\"\"\n",
    "                if (epoch+1) % NUM_EPOCHS == 0:\n",
    "                                      \n",
    "                    Test_acc =Test_model(model)\n",
    "                   \n",
    "                    print ('All_Epochs [{}],Loss: {:.4f},Test_accuracy:{} %,Epoch_total_time:{} min' \n",
    "                   .format(NUM_EPOCHS,loss.item(),Test_acc,curr_time/60))\n",
    "                    # Save the model checkpoint\n",
    "                    torch.save(model.state_dict(), 'models/model_res.ckpt')\n",
    "                    \n",
    "                else:\n",
    "                        torch.cuda.synchronize()\n",
    "                        print ('Epoch [{}],Loss: {:.4f},Epoch_time:{} min' \n",
    "                                 .format(epoch+1,loss.item(),Epoch_time))\n",
    "                        loss_array.append(loss.item())\n",
    "\n",
    "    # save model checkpoint\n",
    "    torch.save({\n",
    "            'epoch': NUM_EPOCHS,\n",
    "            'model_state_dict': model.state_dict(),\n",
    "            'optimizer_state_dict': optimizer.state_dict(),\n",
    "            'loss': loss.item(),\n",
    "            'Accurcy':Test_acc\n",
    "            }, '../DeepLearningProjectNew/models/model.pth')\n",
    "   \"\"\"\n",
    "    #print ('Epoch [{}/{}], Step [{}/{}], Loss: {:.4f}, time:{} min' \n",
    "     #      .format(epoch+1, NUM_EPOCHS, i+1, total_step, loss.item(),time_diff/60)) \n",
    "    stop = time.time()\n",
    "    time_diff = stop-start\n",
    "    total_time = time_diff/60\n",
    "    return loss_array, total_time"
   ]
  },
  {
   "cell_type": "code",
   "execution_count": 16,
   "metadata": {},
   "outputs": [],
   "source": [
    "# Test the model\n",
    "def Test_model(model_Cnn):\n",
    "    print(\"Test started:\")\n",
    "    model_Cnn.eval()  # eval mode (batchnorm uses moving mean/variance instead of mini-batch mean/variance)\n",
    "    device = torch.device(\"cuda:0\" if torch.cuda.is_available() else \"cpu\")\n",
    "    confusion_matrix = torch.zeros(2, 2)\n",
    "    with torch.no_grad():\n",
    "        correct = 0\n",
    "        total = 0\n",
    "        tk0 = tqdm(loader_test, total=int(len(loader_test)),desc= \"Progress: \")\n",
    "        for filename, target in tk0:\n",
    "            filename = filename.to(device)\n",
    "            target = target.to(device)\n",
    "            outputs = model_Cnn(filename)               \n",
    "            temp, predicted = torch.max(outputs.data, 1)               \n",
    "            total += target.size(0)\n",
    "            correct += (predicted == target).sum().item()\n",
    "            for t, p in zip(target.view(-1), predicted.view(-1)):\n",
    "                  confusion_matrix[t.long(), p.long()] += 1                    \n",
    "        Test_acc =format(100 * correct / total)\n",
    "    #print(confusion_matrix)    \n",
    "    return Test_acc, confusion_matrix   "
   ]
  },
  {
   "cell_type": "code",
   "execution_count": 17,
   "metadata": {},
   "outputs": [],
   "source": [
    "# Test the model\n",
    "def plots(loss_array, ModelName):\n",
    "    \"\"\"\n",
    "    # accuracy plots\n",
    "    plt.figure(figsize = (10, 7))\n",
    "    plt.plot(Test_acc, color = 'green', label = 'test accuracy')\n",
    "    plt.xlabel('Epochs')\n",
    "    plt.ylabel('Accuracy')\n",
    "    plt.legend()\n",
    "    plt.savefig('../DeepLearningProjectNew/models/test accuracy.png')\n",
    "    plt.show()\n",
    "    \"\"\"\n",
    "    # loss plots\n",
    "    plt.figure(figsize=(10, 7))\n",
    "    plt.plot(loss_array, color = 'orange', label = 'Train Loss - '+ ModelName)\n",
    "    plt.xlabel('Epochs')\n",
    "    plt.ylabel('Loss')\n",
    "    plt.legend()\n",
    "    plt.savefig('models/Model_' + ModelName + '_Loss.png')\n",
    "    plt.show()"
   ]
  },
  {
   "cell_type": "code",
   "execution_count": 18,
   "metadata": {},
   "outputs": [],
   "source": [
    "class SimpleCNN(nn.Module):\n",
    "    def __init__(self):\n",
    "        # ancestor constructor call\n",
    "        super(SimpleCNN, self).__init__()\n",
    "        self.conv1 = nn.Conv2d(in_channels=3, out_channels=32, kernel_size=3, padding=2)\n",
    "        self.conv2 = nn.Conv2d(in_channels=32, out_channels=64, kernel_size=3, padding=2)\n",
    "        self.conv3 = nn.Conv2d(in_channels=64, out_channels=128, kernel_size=3, padding=2)\n",
    "        self.conv4 = nn.Conv2d(in_channels=128, out_channels=256, kernel_size=3, padding=2)\n",
    "        self.conv5 = nn.Conv2d(in_channels=256, out_channels=512, kernel_size=3, padding=2)            \n",
    "        self.bn1 = nn.BatchNorm2d(32)\n",
    "        self.bn2 = nn.BatchNorm2d(64)\n",
    "        self.bn3 = nn.BatchNorm2d(128)\n",
    "        self.bn4 = nn.BatchNorm2d(256)\n",
    "        self.bn5 = nn.BatchNorm2d(512)\n",
    "        self.pool = nn.MaxPool2d(kernel_size=2, stride=2)\n",
    "        self.avg = nn.AvgPool2d(7)\n",
    "        self.fc = nn.Linear(512 * 1 * 1, 2)\n",
    "        \n",
    "    def forward(self, x):\n",
    "        x = self.pool(F.leaky_relu(self.bn1(self.conv1(x)))) # first convolutional layer then batchnorm, then activation then pooling layer.\n",
    "        x = self.pool(F.leaky_relu(self.bn2(self.conv2(x))))\n",
    "        x = self.pool(F.leaky_relu(self.bn3(self.conv3(x))))\n",
    "        x = self.pool(F.leaky_relu(self.bn4(self.conv4(x))))\n",
    "        x = self.pool(F.leaky_relu(self.bn5(self.conv5(x))))   \n",
    "        x = self.avg(x)\n",
    "        #print(x.shape) # to find out the correct dimension for the Linear Layer\n",
    "        x = x.view(-1, 512 * 1 * 1) # !!!\n",
    "        x = self.fc(x)\n",
    "        return x"
   ]
  },
  {
   "cell_type": "code",
   "execution_count": 19,
   "metadata": {},
   "outputs": [],
   "source": [
    "# Create the model\n",
    "model_Cnn = SimpleCNN()\n",
    "criterion_cnn = nn.CrossEntropyLoss()\n",
    "optimizer_cnn = torch.optim.Adamax(model_Cnn.parameters(), lr = learning_rate_CNN)"
   ]
  },
  {
   "cell_type": "code",
   "execution_count": 20,
   "metadata": {},
   "outputs": [
    {
     "name": "stdout",
     "output_type": "stream",
     "text": [
      "Train started:\n"
     ]
    },
    {
     "name": "stderr",
     "output_type": "stream",
     "text": [
      "Progress: 100%|██████████| 1734/1734 [35:00<00:00,  1.21s/it]\n"
     ]
    }
   ],
   "source": [
    "# Train the model\n",
    "loss_array_cnn, total_time = train_model(NUM_EPOCHS_CNN,loader_train_cnn, optimizer_cnn,criterion_cnn,model_Cnn,\"Model_Cnn\",loss_acc = 50)\n",
    "print(\"Total time for training: \", total_time)"
   ]
  },
  {
   "cell_type": "code",
   "execution_count": 21,
   "metadata": {},
   "outputs": [
    {
     "name": "stdout",
     "output_type": "stream",
     "text": [
      "Test started:\n"
     ]
    },
    {
     "name": "stderr",
     "output_type": "stream",
     "text": [
      "Progress: 100%|██████████| 1735/1735 [07:57<00:00,  3.63it/s]\n"
     ]
    },
    {
     "name": "stdout",
     "output_type": "stream",
     "text": [
      "Total time for training:  35.012853872776034\n",
      "confusion_matrix:  tensor([[36824.,  2924.],\n",
      "        [ 4232., 11525.]])\n",
      "All_Epochs [1],Test_accuracy:87.10746779569408\n"
     ]
    },
    {
     "data": {
      "image/png": "[encoded data removed]",
      "text/plain": [
       "<Figure size 720x504 with 1 Axes>"
      ]
     },
     "metadata": {
      "needs_background": "light"
     },
     "output_type": "display_data"
    }
   ],
   "source": [
    "Test_acc, confusion_matrix = Test_model(model_Cnn)\n",
    "print(\"confusion_matrix: \", confusion_matrix)\n",
    "print ('All_Epochs [{}],Test_accuracy:{}'.format(NUM_EPOCHS_CNN,Test_acc))\n",
    "plots(loss_array_cnn, \"Model_Cnn\") # loss plots"
   ]
  },
  {
   "cell_type": "markdown",
   "metadata": {},
   "source": [
    "End of CNN Module"
   ]
  },
  {
   "cell_type": "markdown",
   "metadata": {},
   "source": [
    "Start of Resnet Module"
   ]
  },
  {
   "cell_type": "code",
   "execution_count": 22,
   "metadata": {},
   "outputs": [],
   "source": [
    "def weights(device,train_df):    \n",
    "    weights = compute_class_weight(y=train_df.target.values, class_weight = \"balanced\", classes = train_df.target.unique())    \n",
    "    class_weights = torch.FloatTensor(weights)\n",
    "    if device.type == \"cuda\":\n",
    "        class_weights = class_weights.cuda()\n",
    "    print(class_weights)\n",
    "    train_df.target.unique()\n",
    "    return class_weights"
   ]
  },
  {
   "cell_type": "code",
   "execution_count": 23,
   "metadata": {},
   "outputs": [
    {
     "name": "stdout",
     "output_type": "stream",
     "text": [
      "512\n"
     ]
    }
   ],
   "source": [
    "model_resnet = torchvision.models.resnet18(pretrained=False)\n",
    "#if run_training:\n",
    "#    model.load_state_dict(torch.load(\"../input/pretrained-pytorch-models/resnet18-5c106cde.pth\"))\n",
    "num_features = model_resnet.fc.in_features\n",
    "print(num_features)\n",
    "\n",
    "model_resnet.fc = nn.Sequential(\n",
    "    nn.Linear(num_features, 512),\n",
    "    nn.ReLU(),\n",
    "    nn.BatchNorm1d(512),\n",
    "    nn.Dropout(0.5),\n",
    "    \n",
    "    nn.Linear(512, 256),\n",
    "    nn.ReLU(),\n",
    "    nn.BatchNorm1d(256),\n",
    "    nn.Dropout(0.5),\n",
    "    \n",
    "    nn.Linear(256, NUM_CLASSES))\n",
    "\n",
    "def init_weights(m):\n",
    "    if type(m) == nn.Linear:\n",
    "        torch.nn.init.xavier_uniform_(m.weight)\n",
    "        m.bias.data.fill_(0.01)\n",
    "\n",
    "model_resnet.apply(init_weights)\n",
    "model_resnet = model_resnet.to(device)"
   ]
  },
  {
   "cell_type": "code",
   "execution_count": 24,
   "metadata": {},
   "outputs": [
    {
     "name": "stdout",
     "output_type": "stream",
     "text": [
      "tensor([0.6982, 1.7612], device='cuda:0')\n",
      "class_weights:\n",
      " tensor([0.6982, 1.7612], device='cuda:0')\n"
     ]
    }
   ],
   "source": [
    "class_weights = weights(device,train)\n",
    "print(\"class_weights:\\n\", class_weights)\n",
    "criterion_resnet = nn.CrossEntropyLoss(weight=class_weights)\n",
    "optimizer_resnet = torch.optim.Adamax(model_resnet.fc.parameters(), lr = learning_rate_RESNET) #, end_lr)#torch.optim.SGD(model.fc.parameters(), start_lr)"
   ]
  },
  {
   "cell_type": "code",
   "execution_count": 25,
   "metadata": {},
   "outputs": [
    {
     "name": "stdout",
     "output_type": "stream",
     "text": [
      "Train started:\n"
     ]
    },
    {
     "name": "stderr",
     "output_type": "stream",
     "text": [
      "Progress: 100%|██████████| 1734/1734 [34:25<00:00,  1.19s/it]\n"
     ]
    }
   ],
   "source": [
    "loss_array_RESNET, total_time = train_model(NUM_EPOCHS_RESNET,loader_train_resnet,optimizer_resnet,criterion_resnet,model_resnet, \"Model_Resnet\",loss_acc = 50)\n",
    "print(\"Total time for training: \", total_time)"
   ]
  },
  {
   "cell_type": "code",
   "execution_count": 26,
   "metadata": {},
   "outputs": [
    {
     "name": "stdout",
     "output_type": "stream",
     "text": [
      "Test started:\n"
     ]
    },
    {
     "name": "stderr",
     "output_type": "stream",
     "text": [
      "Progress: 100%|██████████| 1735/1735 [08:11<00:00,  3.53it/s]\n"
     ]
    },
    {
     "name": "stdout",
     "output_type": "stream",
     "text": [
      "Total time for training:  34.41996136903763\n",
      "78.02720475632826\n",
      "tensor([[30066.,  9682.],\n",
      "        [ 2514., 13243.]])\n"
     ]
    },
    {
     "data": {
      "image/png": "[encoded data removed]",
      "text/plain": [
       "<Figure size 720x504 with 1 Axes>"
      ]
     },
     "metadata": {
      "needs_background": "light"
     },
     "output_type": "display_data"
    }
   ],
   "source": [
    "Test_acc, confusion_matrix = Test_model(model_resnet)\n",
    "print(\"Total time for training: \", total_time)\n",
    "print(Test_acc)\n",
    "print(confusion_matrix)\n",
    "plots(loss_array_RESNET, \"Model_Resnet\") # loss plots"
   ]
  },
  {
   "cell_type": "markdown",
   "metadata": {},
   "source": [
    "Start of Resnet2 Module (Resnet34)"
   ]
  },
  {
   "cell_type": "code",
   "execution_count": 27,
   "metadata": {},
   "outputs": [],
   "source": [
    "model_resnet2 = torchvision.models.resnet34(pretrained=False)\n",
    "model_resnet2 = model_resnet2.to(device)"
   ]
  },
  {
   "cell_type": "code",
   "execution_count": 28,
   "metadata": {},
   "outputs": [],
   "source": [
    "# Create resnet model\n",
    "#model_resnet2 = model50(NUM_CLASSES)"
   ]
  },
  {
   "cell_type": "code",
   "execution_count": 29,
   "metadata": {},
   "outputs": [],
   "source": [
    "#class_weights2 = weights(device,train)\n",
    "#print(class_weights2)\n",
    "criterion2 = nn.CrossEntropyLoss()\n",
    "optimizer2 = torch.optim.Adamax(model_resnet2.fc.parameters(), lr = learning_rate_RESNET2) #, end_lr)#torch.optim.SGD(model.fc.parameters(), start_lr)"
   ]
  },
  {
   "cell_type": "code",
   "execution_count": 30,
   "metadata": {},
   "outputs": [
    {
     "name": "stdout",
     "output_type": "stream",
     "text": [
      "Train started:\n"
     ]
    },
    {
     "name": "stderr",
     "output_type": "stream",
     "text": [
      "Progress: 100%|██████████| 1734/1734 [38:19<00:00,  1.33s/it]"
     ]
    },
    {
     "name": "stdout",
     "output_type": "stream",
     "text": [
      "Total time for training:  38.32532293001811\n"
     ]
    },
    {
     "name": "stderr",
     "output_type": "stream",
     "text": [
      "\n"
     ]
    }
   ],
   "source": [
    "loss_array_RESNET2, total_time = train_model(NUM_EPOCHS_RESNET,loader_train_resnet2,optimizer2,criterion2,model_resnet2,\"Model_Resnet2\",loss_acc=50)\n",
    "print(\"Total time for training: \", total_time)"
   ]
  },
  {
   "cell_type": "code",
   "execution_count": 31,
   "metadata": {},
   "outputs": [
    {
     "name": "stdout",
     "output_type": "stream",
     "text": [
      "Test started:\n"
     ]
    },
    {
     "name": "stderr",
     "output_type": "stream",
     "text": [
      "Progress: 100%|██████████| 1735/1735 [09:16<00:00,  3.12it/s]\n"
     ]
    },
    {
     "name": "stdout",
     "output_type": "stream",
     "text": [
      "80.71525087829926\n",
      "tensor([[35210.,  4538.],\n",
      "        [ 6166.,  9591.]])\n"
     ]
    },
    {
     "data": {
      "image/png": "[encoded data removed]",
      "text/plain": [
       "<Figure size 720x504 with 1 Axes>"
      ]
     },
     "metadata": {
      "needs_background": "light"
     },
     "output_type": "display_data"
    }
   ],
   "source": [
    "Test_acc, confusion_matrix = Test_model(model_resnet2)\n",
    "print(Test_acc)\n",
    "print(confusion_matrix)\n",
    "plots(loss_array_RESNET2, \"Model_Resnet2\") # loss plots"
   ]
  },
  {
   "cell_type": "markdown",
   "metadata": {},
   "source": [
    "End of Resnet2 Module"
   ]
  },
  {
   "cell_type": "markdown",
   "metadata": {},
   "source": [
    "Start model DensNet"
   ]
  },
  {
   "cell_type": "code",
   "execution_count": 32,
   "metadata": {},
   "outputs": [],
   "source": [
    "class DensNet(nn.Module):\n",
    "    def __init__(self, num_classes=1000, num_channels=3):\n",
    "        super().__init__()\n",
    "        preloaded = torchvision.models.densenet121(pretrained=True)\n",
    "        self.features = preloaded.features\n",
    "        self.features.conv0 = nn.Conv2d(num_channels, 64, 7, 2, 3)\n",
    "        self.classifier = nn.Linear(1024, num_classes, bias=True)\n",
    "        del preloaded\n",
    "        \n",
    "    def forward(self, x):\n",
    "        features = self.features(x)\n",
    "        out = F.relu(features, inplace=True)\n",
    "        out = F.adaptive_avg_pool2d(out, (1, 1)).view(features.size(0), -1)\n",
    "        out = self.classifier(out)\n",
    "        return out"
   ]
  },
  {
   "cell_type": "code",
   "execution_count": 35,
   "metadata": {},
   "outputs": [],
   "source": [
    "model_DensNet = DensNet(num_classes=NUM_CLASSES)\n",
    "model_DensNet.to(device);"
   ]
  },
  {
   "cell_type": "code",
   "execution_count": 36,
   "metadata": {},
   "outputs": [],
   "source": [
    "optimizer_DensNet = torch.optim.Adam(model_DensNet.parameters(), learning_rate_DensNet)\n",
    "criterion_DensNet = nn.CrossEntropyLoss()"
   ]
  },
  {
   "cell_type": "code",
   "execution_count": 37,
   "metadata": {},
   "outputs": [
    {
     "name": "stdout",
     "output_type": "stream",
     "text": [
      "Train started:\n"
     ]
    },
    {
     "name": "stderr",
     "output_type": "stream",
     "text": [
      "Progress: 100%|██████████| 3469/3469 [1:18:43<00:00,  1.36s/it]"
     ]
    },
    {
     "name": "stdout",
     "output_type": "stream",
     "text": [
      "Total time for training:  78.72692272663116\n"
     ]
    },
    {
     "name": "stderr",
     "output_type": "stream",
     "text": [
      "\n"
     ]
    }
   ],
   "source": [
    "loss_array_DensNet, total_time = train_model(NUM_EPOCHS_DENSNET,loader_train_resnet_densnet, optimizer_DensNet,criterion_DensNet,model_DensNet,\"Model_DensNet\")\n",
    "print(\"Total time for training: \", total_time)"
   ]
  },
  {
   "cell_type": "code",
   "execution_count": 39,
   "metadata": {},
   "outputs": [
    {
     "name": "stdout",
     "output_type": "stream",
     "text": [
      "Test started:\n"
     ]
    },
    {
     "name": "stderr",
     "output_type": "stream",
     "text": [
      "Progress: 100%|██████████| 1735/1735 [04:56<00:00,  5.85it/s]\n"
     ]
    },
    {
     "name": "stdout",
     "output_type": "stream",
     "text": [
      "confusion_matrix:  tensor([[35032.,  4716.],\n",
      "        [ 2599., 13158.]])\n",
      "All_Epochs [1],Test_accuracy:86.821007116476\n"
     ]
    },
    {
     "data": {
      "image/png": "[encoded data removed]",
      "text/plain": [
       "<Figure size 720x504 with 1 Axes>"
      ]
     },
     "metadata": {
      "needs_background": "light"
     },
     "output_type": "display_data"
    }
   ],
   "source": [
    "Test_acc, confusion_matrix = Test_model(model_DensNet)\n",
    "print(\"confusion_matrix: \", confusion_matrix)\n",
    "print ('All_Epochs [{}],Test_accuracy:{}'.format(NUM_EPOCHS_DENSNET,Test_acc))\n",
    "plots(loss_array_DensNet, \"Model_DensNet\") # loss plots"
   ]
  },
  {
   "cell_type": "code",
   "execution_count": null,
   "metadata": {},
   "outputs": [],
   "source": []
  },
  {
   "cell_type": "code",
   "execution_count": null,
   "metadata": {},
   "outputs": [],
   "source": []
  },
  {
   "cell_type": "code",
   "execution_count": null,
   "metadata": {},
   "outputs": [],
   "source": [
    "class SimpleCNN2(nn.Module):\n",
    "    def __init__(self):\n",
    "        # ancestor constructor call\n",
    "        super(SimpleCNN, self).__init__()\n",
    "        self.conv1 = nn.Conv2d(in_channels=3, out_channels=32, kernel_size=3, padding=2)\n",
    "        self.conv2 = nn.Conv2d(in_channels=32, out_channels=64, kernel_size=3, padding=2)\n",
    "        self.conv3 = nn.Conv2d(in_channels=64, out_channels=128, kernel_size=3, padding=2)\n",
    "        self.conv4 = nn.Conv2d(in_channels=128, out_channels=256, kernel_size=3, padding=2)\n",
    "        self.conv5 = nn.Conv2d(in_channels=256, out_channels=512, kernel_size=3, padding=2)            \n",
    "        self.bn1 = nn.BatchNorm2d(32)\n",
    "        self.bn2 = nn.BatchNorm2d(64)\n",
    "        self.bn3 = nn.BatchNorm2d(128)\n",
    "        self.bn4 = nn.BatchNorm2d(256)\n",
    "        self.bn5 = nn.BatchNorm2d(512)\n",
    "        self.pool = nn.MaxPool2d(kernel_size=2, stride=2)\n",
    "        self.avg = nn.AvgPool2d(7)\n",
    "        self.fc = nn.Linear(512 * 1 * 1, 2) # !!!\n",
    "        \n",
    "    def forward(self, x):\n",
    "        x = self.pool(F.leaky_relu(self.bn1(self.conv1(x)))) # first convolutional layer then batchnorm, then activation then pooling layer.\n",
    "        x = self.pool(F.leaky_relu(self.bn2(self.conv2(x))))\n",
    "        x = self.pool(F.leaky_relu(self.bn3(self.conv3(x))))\n",
    "        x = self.pool(F.leaky_relu(self.bn4(self.conv4(x))))\n",
    "        x = self.pool(F.leaky_relu(self.bn5(self.conv5(x))))   \n",
    "        x = self.avg(x)\n",
    "        #print(x.shape) # to find out the correct dimension for the Linear Layer\n",
    "        x = x.view(-1, 512 * 1 * 1) # !!!\n",
    "        x = self.fc(x)\n",
    "        return x"
   ]
  },
  {
   "cell_type": "code",
   "execution_count": null,
   "metadata": {},
   "outputs": [],
   "source": [
    "# model_Cnn, model_resnet, model_resnet2, model_DensNet\n"
   ]
  },
  {
   "cell_type": "code",
   "execution_count": 19,
   "metadata": {},
   "outputs": [],
   "source": [
    "# Test the model by majority vote\n",
    "def Test_model_majority_vote(model_resnet, model_resnet2, model_Cnn):\n",
    "    model_Cnn.eval()  # eval mode (batchnorm uses moving mean/variance instead of mini-batch mean/variance)\n",
    "    device = torch.device(\"cuda:0\" if torch.cuda.is_available() else \"cpu\")\n",
    "    confusion_matrix = torch.zeros(2, 2)\n",
    "    with torch.no_grad():\n",
    "        correct = 0\n",
    "        total = 0\n",
    "        #tk0 = tqdm(loader_test, total=int(len(loader_test)), desc= \"Progress: \")\n",
    "        for filename, target in loader_test:\n",
    "            filename = filename.to(device)\n",
    "            target = target.to(device)\n",
    "            outputs_cnn = model_Cnn(filename)\n",
    "            outputs_resnet = model_resnet(filename)\n",
    "            outputs_resnet2 = model_resnet2(filename) \n",
    "            temp, predicted_cnn = torch.max(outputs_cnn.data, 1)\n",
    "            temp, predicted_resnet = torch.max(outputs_resnet.data, 1) \n",
    "            temp, predicted_resnet2 = torch.max(outputs_resnet2.data, 1)\n",
    "            predicted = torch.round((predicted_cnn + predicted_resnet + predicted_resnet2) / 3)\n",
    "            total += target.size(0)\n",
    "            correct += (predicted == target).sum().item()\n",
    "            for t, p in zip(target.view(-1), predicted.view(-1)):\n",
    "                  confusion_matrix[t.long(), p.long()] += 1                    \n",
    "        Test_acc =format(100 * correct / total)\n",
    "    #print(confusion_matrix)    \n",
    "    return Test_acc, confusion_matrix   \n"
   ]
  },
  {
   "cell_type": "code",
   "execution_count": 20,
   "metadata": {},
   "outputs": [
    {
     "ename": "NameError",
     "evalue": "name 'model_resnet' is not defined",
     "output_type": "error",
     "traceback": [
      "\u001b[0;31m---------------------------------------------------------------------------\u001b[0m",
      "\u001b[0;31mNameError\u001b[0m                                 Traceback (most recent call last)",
      "\u001b[0;32m/tmp/ipykernel_6676/677373475.py\u001b[0m in \u001b[0;36m<module>\u001b[0;34m\u001b[0m\n\u001b[0;32m----> 1\u001b[0;31m \u001b[0mTest_acc\u001b[0m\u001b[0;34m,\u001b[0m \u001b[0mconfusion_matrix\u001b[0m \u001b[0;34m=\u001b[0m \u001b[0mTest_model_majority_vote\u001b[0m\u001b[0;34m(\u001b[0m\u001b[0mmodel_resnet\u001b[0m\u001b[0;34m,\u001b[0m \u001b[0mmodel_resnet2\u001b[0m\u001b[0;34m,\u001b[0m \u001b[0mmodel_Cnn\u001b[0m\u001b[0;34m)\u001b[0m\u001b[0;34m\u001b[0m\u001b[0;34m\u001b[0m\u001b[0m\n\u001b[0m",
      "\u001b[0;31mNameError\u001b[0m: name 'model_resnet' is not defined"
     ]
    }
   ],
   "source": [
    "Test_acc, confusion_matrix = Test_model_majority_vote(model_resnet, model_resnet2, model_Cnn)"
   ]
  },
  {
   "cell_type": "code",
   "execution_count": null,
   "metadata": {},
   "outputs": [],
   "source": [
    "print(Test_acc)\n",
    "print(confusion_matrix)"
   ]
  },
  {
   "cell_type": "code",
   "execution_count": null,
   "metadata": {},
   "outputs": [],
   "source": []
  }
 ],
 "metadata": {
  "kernelspec": {
   "display_name": "Python 3 (ipykernel)",
   "language": "python",
   "name": "python3"
  },
  "language_info": {
   "codemirror_mode": {
    "name": "ipython",
    "version": 3
   },
   "file_extension": ".py",
   "mimetype": "text/x-python",
   "name": "python",
   "nbconvert_exporter": "python",
   "pygments_lexer": "ipython3",
   "version": "3.8.12"
  }
 },
 "nbformat": 4,
 "nbformat_minor": 4
}
